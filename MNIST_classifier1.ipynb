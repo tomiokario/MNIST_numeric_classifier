{
  "nbformat": 4,
  "nbformat_minor": 0,
  "metadata": {
    "colab": {
      "name": "MNIST_classifier1.ipynb",
      "provenance": [],
      "toc_visible": true,
      "authorship_tag": "ABX9TyOk2vbN9yMUKLhEruyYsieC",
      "include_colab_link": true
    },
    "kernelspec": {
      "name": "python3",
      "display_name": "Python 3"
    }
  },
  "cells": [
    {
      "cell_type": "markdown",
      "metadata": {
        "id": "view-in-github",
        "colab_type": "text"
      },
      "source": [
        "<a href=\"https://colab.research.google.com/github/tomiokario/MNIST_numeric_classifier/blob/master/MNIST_classifier1.ipynb\" target=\"_parent\"><img src=\"https://colab.research.google.com/assets/colab-badge.svg\" alt=\"Open In Colab\"/></a>"
      ]
    },
    {
      "cell_type": "markdown",
      "metadata": {
        "id": "HwKMayTjXUqA",
        "colab_type": "text"
      },
      "source": [
        "# feedforward neural networkによるMNIST手書き文字分類\n",
        "\n",
        "\n"
      ]
    },
    {
      "cell_type": "markdown",
      "metadata": {
        "id": "LW_WIZ7KKq7r",
        "colab_type": "text"
      },
      "source": [
        "## モデルの構築"
      ]
    },
    {
      "cell_type": "code",
      "metadata": {
        "id": "Zd9-bxZ_XqDA",
        "colab_type": "code",
        "colab": {}
      },
      "source": [
        "import tensorflow as tf\n",
        "from tensorflow.keras.datasets import mnist\n",
        "\n",
        "#ヘルパーのライブラリ読み込み。画像を表示する場合に利用します。\n",
        "import numpy as np\n",
        "import matplotlib.pyplot as plt\n",
        "\n",
        "(x_train, y_train), (x_test, y_test) = mnist.load_data() # データロード"
      ],
      "execution_count": 24,
      "outputs": []
    },
    {
      "cell_type": "code",
      "metadata": {
        "id": "NdnPOWTJZVXE",
        "colab_type": "code",
        "colab": {}
      },
      "source": [
        "# データスケール変換: (28*28)→(784)\n",
        "x_train = x_train.reshape(60000, 784) \n",
        "x_test = x_test.reshape(10000, 784) \n",
        "# データの正規化\n",
        "x_train = x_train / 255.\n",
        "x_test = x_test / 255.\n",
        "# ラベルデータの変換\n",
        "from tensorflow.keras.utils import to_categorical\n",
        "y_train = to_categorical(y_train, 10)\n",
        "y_test = to_categorical(y_test, 10)"
      ],
      "execution_count": 25,
      "outputs": []
    },
    {
      "cell_type": "code",
      "metadata": {
        "id": "a94GO8sBauZb",
        "colab_type": "code",
        "colab": {}
      },
      "source": [
        "# モデルの作成\n",
        "from tensorflow.keras.models import Sequential\n",
        "model = Sequential()"
      ],
      "execution_count": 28,
      "outputs": []
    },
    {
      "cell_type": "code",
      "metadata": {
        "id": "IndW74W4bRiv",
        "colab_type": "code",
        "colab": {}
      },
      "source": [
        "# 中間層の追加\n",
        "from tensorflow.keras.layers import Dense\n",
        "\n",
        "model.add(\n",
        "    Dense(\n",
        "        units=64,\n",
        "        input_shape=(784,),\n",
        "        activation='relu'\n",
        "    )\n",
        ")\n",
        "# 出力層の追加\n",
        "model.add(\n",
        "    Dense(\n",
        "        units=10,\n",
        "        activation='softmax'\n",
        "    )\n",
        ")"
      ],
      "execution_count": 29,
      "outputs": []
    },
    {
      "cell_type": "markdown",
      "metadata": {
        "id": "31dQSuEYNFc8",
        "colab_type": "text"
      },
      "source": [
        "## モデルの学習"
      ]
    },
    {
      "cell_type": "code",
      "metadata": {
        "id": "-9S1aAHFciSl",
        "colab_type": "code",
        "colab": {}
      },
      "source": [
        "# 学習アルゴリズムの指定\n",
        "model.compile(\n",
        "    optimizer='adam',\n",
        "    loss='categorical_crossentropy',\n",
        "    metrics=['accuracy']\n",
        ")"
      ],
      "execution_count": 31,
      "outputs": []
    },
    {
      "cell_type": "code",
      "metadata": {
        "id": "u5M0Je3jdSKe",
        "colab_type": "code",
        "colab": {
          "base_uri": "https://localhost:8080/",
          "height": 714
        },
        "outputId": "71b80511-6d88-4262-dc53-0436f2f13a20"
      },
      "source": [
        "model.fit(\n",
        "    x_train,\n",
        "    y_train,\n",
        "    batch_size=32,\n",
        "    epochs=20,\n",
        "    validation_split=0.2\n",
        ")"
      ],
      "execution_count": 32,
      "outputs": [
        {
          "output_type": "stream",
          "text": [
            "Epoch 1/20\n",
            "1500/1500 [==============================] - 2s 1ms/step - loss: 0.3352 - accuracy: 0.9049 - val_loss: 0.1868 - val_accuracy: 0.9481\n",
            "Epoch 2/20\n",
            "1500/1500 [==============================] - 2s 1ms/step - loss: 0.1615 - accuracy: 0.9527 - val_loss: 0.1461 - val_accuracy: 0.9572\n",
            "Epoch 3/20\n",
            "1500/1500 [==============================] - 2s 1ms/step - loss: 0.1173 - accuracy: 0.9655 - val_loss: 0.1208 - val_accuracy: 0.9645\n",
            "Epoch 4/20\n",
            "1500/1500 [==============================] - 2s 1ms/step - loss: 0.0928 - accuracy: 0.9722 - val_loss: 0.1053 - val_accuracy: 0.9697\n",
            "Epoch 5/20\n",
            "1500/1500 [==============================] - 2s 1ms/step - loss: 0.0758 - accuracy: 0.9773 - val_loss: 0.1039 - val_accuracy: 0.9693\n",
            "Epoch 6/20\n",
            "1500/1500 [==============================] - 2s 1ms/step - loss: 0.0635 - accuracy: 0.9816 - val_loss: 0.0953 - val_accuracy: 0.9712\n",
            "Epoch 7/20\n",
            "1500/1500 [==============================] - 2s 1ms/step - loss: 0.0537 - accuracy: 0.9836 - val_loss: 0.1007 - val_accuracy: 0.9696\n",
            "Epoch 8/20\n",
            "1500/1500 [==============================] - 2s 1ms/step - loss: 0.0456 - accuracy: 0.9864 - val_loss: 0.1011 - val_accuracy: 0.9716\n",
            "Epoch 9/20\n",
            "1500/1500 [==============================] - 2s 1ms/step - loss: 0.0403 - accuracy: 0.9880 - val_loss: 0.0984 - val_accuracy: 0.9738\n",
            "Epoch 10/20\n",
            "1500/1500 [==============================] - 2s 1ms/step - loss: 0.0346 - accuracy: 0.9896 - val_loss: 0.0983 - val_accuracy: 0.9735\n",
            "Epoch 11/20\n",
            "1500/1500 [==============================] - 2s 1ms/step - loss: 0.0293 - accuracy: 0.9913 - val_loss: 0.0985 - val_accuracy: 0.9737\n",
            "Epoch 12/20\n",
            "1500/1500 [==============================] - 2s 1ms/step - loss: 0.0244 - accuracy: 0.9930 - val_loss: 0.1047 - val_accuracy: 0.9739\n",
            "Epoch 13/20\n",
            "1500/1500 [==============================] - 2s 1ms/step - loss: 0.0222 - accuracy: 0.9936 - val_loss: 0.1116 - val_accuracy: 0.9714\n",
            "Epoch 14/20\n",
            "1500/1500 [==============================] - 2s 1ms/step - loss: 0.0188 - accuracy: 0.9944 - val_loss: 0.1138 - val_accuracy: 0.9724\n",
            "Epoch 15/20\n",
            "1500/1500 [==============================] - 2s 1ms/step - loss: 0.0175 - accuracy: 0.9945 - val_loss: 0.1162 - val_accuracy: 0.9734\n",
            "Epoch 16/20\n",
            "1500/1500 [==============================] - 2s 1ms/step - loss: 0.0144 - accuracy: 0.9961 - val_loss: 0.1176 - val_accuracy: 0.9724\n",
            "Epoch 17/20\n",
            "1500/1500 [==============================] - 2s 1ms/step - loss: 0.0133 - accuracy: 0.9961 - val_loss: 0.1150 - val_accuracy: 0.9737\n",
            "Epoch 18/20\n",
            "1500/1500 [==============================] - 2s 1ms/step - loss: 0.0124 - accuracy: 0.9962 - val_loss: 0.1176 - val_accuracy: 0.9753\n",
            "Epoch 19/20\n",
            "1500/1500 [==============================] - 2s 1ms/step - loss: 0.0098 - accuracy: 0.9972 - val_loss: 0.1365 - val_accuracy: 0.9707\n",
            "Epoch 20/20\n",
            "1500/1500 [==============================] - 2s 1ms/step - loss: 0.0092 - accuracy: 0.9974 - val_loss: 0.1246 - val_accuracy: 0.9731\n"
          ],
          "name": "stdout"
        },
        {
          "output_type": "execute_result",
          "data": {
            "text/plain": [
              "<tensorflow.python.keras.callbacks.History at 0x7f7be68c5fd0>"
            ]
          },
          "metadata": {
            "tags": []
          },
          "execution_count": 32
        }
      ]
    },
    {
      "cell_type": "markdown",
      "metadata": {
        "id": "5ZvOQlsgfwIk",
        "colab_type": "text"
      },
      "source": [
        "## モデルの評価\n",
        "\n",
        "検証用データを用いてモデルの正解率を評価する"
      ]
    },
    {
      "cell_type": "code",
      "metadata": {
        "id": "9BZ9HbGKf3ZW",
        "colab_type": "code",
        "colab": {
          "base_uri": "https://localhost:8080/",
          "height": 51
        },
        "outputId": "b69ac1b8-7529-419f-be5d-164bc2248a36"
      },
      "source": [
        "test_loss, test_acc = model.evaluate(x_test, y_test, verbose=0)\n",
        "print('\\nTest accuracy:', test_acc)"
      ],
      "execution_count": 33,
      "outputs": [
        {
          "output_type": "stream",
          "text": [
            "\n",
            "Test accuracy: 0.9735999703407288\n"
          ],
          "name": "stdout"
        }
      ]
    },
    {
      "cell_type": "markdown",
      "metadata": {
        "id": "PukTo038f81w",
        "colab_type": "text"
      },
      "source": [
        "## モデルを使った予測"
      ]
    },
    {
      "cell_type": "markdown",
      "metadata": {
        "id": "wUGCLsl0K3wB",
        "colab_type": "text"
      },
      "source": [
        "予測したいテストデータのidを指定"
      ]
    },
    {
      "cell_type": "code",
      "metadata": {
        "id": "l2QtxKwqK7WZ",
        "colab_type": "code",
        "colab": {}
      },
      "source": [
        "id=34"
      ],
      "execution_count": 51,
      "outputs": []
    },
    {
      "cell_type": "markdown",
      "metadata": {
        "id": "TVpvrXZzgU4J",
        "colab_type": "text"
      },
      "source": [
        "最も可能性の高い数字とその値を出力"
      ]
    },
    {
      "cell_type": "code",
      "metadata": {
        "id": "tygOoO9LgWmj",
        "colab_type": "code",
        "colab": {
          "base_uri": "https://localhost:8080/",
          "height": 51
        },
        "outputId": "6e33d84a-e18c-44f6-dd8d-11dca54e9139"
      },
      "source": [
        "print(\"予測ラベル:\", np.argmax(predictions[id]))\n",
        "print(\"予測値:\", max(predictions[id]))"
      ],
      "execution_count": 52,
      "outputs": [
        {
          "output_type": "stream",
          "text": [
            "予測ラベル: 7\n",
            "予測値: 0.9999995\n"
          ],
          "name": "stdout"
        }
      ]
    },
    {
      "cell_type": "markdown",
      "metadata": {
        "id": "K7TC8H5nLABa",
        "colab_type": "text"
      },
      "source": [
        "### 正解の確認"
      ]
    },
    {
      "cell_type": "code",
      "metadata": {
        "id": "Wo2t9_ZZgwT9",
        "colab_type": "code",
        "colab": {
          "base_uri": "https://localhost:8080/",
          "height": 286
        },
        "outputId": "8caa5883-6acf-4613-e6eb-e4b4b1e35855"
      },
      "source": [
        "# ラベルの出力\n",
        "print(\"正解ラベル: \", np.argmax(y_test[id]))\n",
        "# 画像の表示\n",
        "x_test_image = x_test[id].reshape(28, 28) \n",
        "\n",
        "plt.figure()\n",
        "plt.imshow(x_test_image)\n",
        "plt.colorbar()\n",
        "plt.grid(False)\n",
        "plt.show()"
      ],
      "execution_count": 53,
      "outputs": [
        {
          "output_type": "stream",
          "text": [
            "正解ラベル:  7\n"
          ],
          "name": "stdout"
        },
        {
          "output_type": "display_data",
          "data": {
            "image/png": "[encoded data removed]",
            "text/plain": [
              "<Figure size 432x288 with 2 Axes>"
            ]
          },
          "metadata": {
            "tags": [],
            "needs_background": "light"
          }
        }
      ]
    }
  ]
}
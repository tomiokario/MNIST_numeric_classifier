{
  "nbformat": 4,
  "nbformat_minor": 0,
  "metadata": {
    "colab": {
      "name": "MNIST_classifier1.ipynb",
      "provenance": [],
      "toc_visible": true,
      "authorship_tag": "ABX9TyMqjkaeCs4eb3fDF2EUO2hS",
      "include_colab_link": true
    },
    "kernelspec": {
      "name": "python3",
      "display_name": "Python 3"
    }
  },
  "cells": [
    {
      "cell_type": "markdown",
      "metadata": {
        "id": "view-in-github",
        "colab_type": "text"
      },
      "source": [
        "<a href=\"https://colab.research.google.com/github/tomiokario/MNIST_numeric_classifier/blob/master/MNIST_classifier1.ipynb\" target=\"_parent\"><img src=\"https://colab.research.google.com/assets/colab-badge.svg\" alt=\"Open In Colab\"/></a>"
      ]
    },
    {
      "cell_type": "markdown",
      "metadata": {
        "id": "HwKMayTjXUqA",
        "colab_type": "text"
      },
      "source": [
        "# feedforward neural networkによるMNIST手書き文字分類\n",
        "\n",
        "\n"
      ]
    },
    {
      "cell_type": "markdown",
      "metadata": {
        "id": "LW_WIZ7KKq7r",
        "colab_type": "text"
      },
      "source": [
        "## モデルの構築"
      ]
    },
    {
      "cell_type": "code",
      "metadata": {
        "id": "Zd9-bxZ_XqDA",
        "colab_type": "code",
        "colab": {
          "base_uri": "https://localhost:8080/",
          "height": 0
        },
        "outputId": "cbb345f0-af68-462f-f472-3946c0533955"
      },
      "source": [
        "import tensorflow as tf\n",
        "from tensorflow.keras.datasets import mnist\n",
        "\n",
        "#ヘルパーのライブラリ読み込み。画像を表示する場合に利用します。\n",
        "import numpy as np\n",
        "import matplotlib.pyplot as plt\n",
        "\n",
        "(x_train, y_train), (x_test, y_test) = mnist.load_data() # データロード"
      ],
      "execution_count": 1,
      "outputs": [
        {
          "output_type": "stream",
          "text": [
            "Downloading data from https://storage.googleapis.com/tensorflow/tf-keras-datasets/mnist.npz\n",
            "11493376/11490434 [==============================] - 0s 0us/step\n"
          ],
          "name": "stdout"
        }
      ]
    },
    {
      "cell_type": "code",
      "metadata": {
        "id": "NdnPOWTJZVXE",
        "colab_type": "code",
        "colab": {}
      },
      "source": [
        "# データスケール変換: (28*28)→(784)\n",
        "x_train = x_train.reshape(60000, 784) \n",
        "x_test = x_test.reshape(10000, 784) \n",
        "# データの正規化\n",
        "x_train = x_train / 255.\n",
        "x_test = x_test / 255.\n",
        "# ラベルデータの変換\n",
        "from tensorflow.keras.utils import to_categorical\n",
        "y_train = to_categorical(y_train, 10)\n",
        "y_test = to_categorical(y_test, 10)"
      ],
      "execution_count": 2,
      "outputs": []
    },
    {
      "cell_type": "code",
      "metadata": {
        "id": "a94GO8sBauZb",
        "colab_type": "code",
        "colab": {}
      },
      "source": [
        "# モデルの作成\n",
        "from tensorflow.keras.models import Sequential\n",
        "model = Sequential()"
      ],
      "execution_count": 3,
      "outputs": []
    },
    {
      "cell_type": "code",
      "metadata": {
        "id": "IndW74W4bRiv",
        "colab_type": "code",
        "colab": {}
      },
      "source": [
        "# 中間層の追加\n",
        "from tensorflow.keras.layers import Dense\n",
        "\n",
        "model.add(\n",
        "    Dense(\n",
        "        units=64,\n",
        "        input_shape=(784,),\n",
        "        activation='relu'\n",
        "    )\n",
        ")\n",
        "# 出力層の追加\n",
        "model.add(\n",
        "    Dense(\n",
        "        units=10,\n",
        "        activation='softmax'\n",
        "    )\n",
        ")"
      ],
      "execution_count": 4,
      "outputs": []
    },
    {
      "cell_type": "markdown",
      "metadata": {
        "id": "31dQSuEYNFc8",
        "colab_type": "text"
      },
      "source": [
        "## モデルの学習"
      ]
    },
    {
      "cell_type": "code",
      "metadata": {
        "id": "-9S1aAHFciSl",
        "colab_type": "code",
        "colab": {}
      },
      "source": [
        "# 学習アルゴリズムの指定\n",
        "model.compile(\n",
        "    optimizer='adam',\n",
        "    loss='categorical_crossentropy',\n",
        "    metrics=['accuracy']\n",
        ")"
      ],
      "execution_count": 5,
      "outputs": []
    },
    {
      "cell_type": "code",
      "metadata": {
        "id": "u5M0Je3jdSKe",
        "colab_type": "code",
        "colab": {
          "base_uri": "https://localhost:8080/",
          "height": 714
        },
        "outputId": "3f7fc1bd-3f0b-4170-b344-8f343dde626f"
      },
      "source": [
        "model.fit(\n",
        "    x_train,\n",
        "    y_train,\n",
        "    batch_size=32,\n",
        "    epochs=20,\n",
        "    validation_split=0.2\n",
        ")"
      ],
      "execution_count": 6,
      "outputs": [
        {
          "output_type": "stream",
          "text": [
            "Epoch 1/20\n",
            "1500/1500 [==============================] - 2s 2ms/step - loss: 0.3380 - accuracy: 0.9034 - val_loss: 0.2028 - val_accuracy: 0.9425\n",
            "Epoch 2/20\n",
            "1500/1500 [==============================] - 2s 2ms/step - loss: 0.1613 - accuracy: 0.9514 - val_loss: 0.1387 - val_accuracy: 0.9592\n",
            "Epoch 3/20\n",
            "1500/1500 [==============================] - 2s 2ms/step - loss: 0.1183 - accuracy: 0.9647 - val_loss: 0.1167 - val_accuracy: 0.9661\n",
            "Epoch 4/20\n",
            "1500/1500 [==============================] - 2s 2ms/step - loss: 0.0928 - accuracy: 0.9719 - val_loss: 0.1099 - val_accuracy: 0.9684\n",
            "Epoch 5/20\n",
            "1500/1500 [==============================] - 2s 2ms/step - loss: 0.0758 - accuracy: 0.9766 - val_loss: 0.1008 - val_accuracy: 0.9695\n",
            "Epoch 6/20\n",
            "1500/1500 [==============================] - 2s 2ms/step - loss: 0.0626 - accuracy: 0.9811 - val_loss: 0.1070 - val_accuracy: 0.9668\n",
            "Epoch 7/20\n",
            "1500/1500 [==============================] - 2s 2ms/step - loss: 0.0547 - accuracy: 0.9828 - val_loss: 0.1082 - val_accuracy: 0.9684\n",
            "Epoch 8/20\n",
            "1500/1500 [==============================] - 2s 2ms/step - loss: 0.0458 - accuracy: 0.9865 - val_loss: 0.1074 - val_accuracy: 0.9689\n",
            "Epoch 9/20\n",
            "1500/1500 [==============================] - 2s 2ms/step - loss: 0.0385 - accuracy: 0.9888 - val_loss: 0.1005 - val_accuracy: 0.9716\n",
            "Epoch 10/20\n",
            "1500/1500 [==============================] - 2s 2ms/step - loss: 0.0335 - accuracy: 0.9898 - val_loss: 0.0982 - val_accuracy: 0.9712\n",
            "Epoch 11/20\n",
            "1500/1500 [==============================] - 2s 2ms/step - loss: 0.0291 - accuracy: 0.9912 - val_loss: 0.1039 - val_accuracy: 0.9716\n",
            "Epoch 12/20\n",
            "1500/1500 [==============================] - 2s 2ms/step - loss: 0.0257 - accuracy: 0.9922 - val_loss: 0.1061 - val_accuracy: 0.9697\n",
            "Epoch 13/20\n",
            "1500/1500 [==============================] - 2s 2ms/step - loss: 0.0212 - accuracy: 0.9939 - val_loss: 0.1193 - val_accuracy: 0.9679\n",
            "Epoch 14/20\n",
            "1500/1500 [==============================] - 2s 2ms/step - loss: 0.0189 - accuracy: 0.9944 - val_loss: 0.1166 - val_accuracy: 0.9700\n",
            "Epoch 15/20\n",
            "1500/1500 [==============================] - 2s 2ms/step - loss: 0.0167 - accuracy: 0.9952 - val_loss: 0.1141 - val_accuracy: 0.9703\n",
            "Epoch 16/20\n",
            "1500/1500 [==============================] - 2s 2ms/step - loss: 0.0152 - accuracy: 0.9954 - val_loss: 0.1170 - val_accuracy: 0.9705\n",
            "Epoch 17/20\n",
            "1500/1500 [==============================] - 2s 2ms/step - loss: 0.0136 - accuracy: 0.9962 - val_loss: 0.1225 - val_accuracy: 0.9703\n",
            "Epoch 18/20\n",
            "1500/1500 [==============================] - 2s 2ms/step - loss: 0.0123 - accuracy: 0.9965 - val_loss: 0.1172 - val_accuracy: 0.9722\n",
            "Epoch 19/20\n",
            "1500/1500 [==============================] - 2s 2ms/step - loss: 0.0114 - accuracy: 0.9967 - val_loss: 0.1292 - val_accuracy: 0.9728\n",
            "Epoch 20/20\n",
            "1500/1500 [==============================] - 2s 2ms/step - loss: 0.0085 - accuracy: 0.9977 - val_loss: 0.1273 - val_accuracy: 0.9709\n"
          ],
          "name": "stdout"
        },
        {
          "output_type": "execute_result",
          "data": {
            "text/plain": [
              "<tensorflow.python.keras.callbacks.History at 0x7fdd3e83ffd0>"
            ]
          },
          "metadata": {
            "tags": []
          },
          "execution_count": 6
        }
      ]
    },
    {
      "cell_type": "markdown",
      "metadata": {
        "id": "5ZvOQlsgfwIk",
        "colab_type": "text"
      },
      "source": [
        "## モデルの評価\n",
        "\n",
        "検証用データを用いてモデルの正解率を評価する"
      ]
    },
    {
      "cell_type": "code",
      "metadata": {
        "id": "9BZ9HbGKf3ZW",
        "colab_type": "code",
        "colab": {
          "base_uri": "https://localhost:8080/",
          "height": 51
        },
        "outputId": "9dbdee9a-aad1-4430-928c-4b95dbfe2983"
      },
      "source": [
        "test_loss, test_acc = model.evaluate(x_test, y_test, verbose=0)\n",
        "print('\\nTest accuracy:', test_acc)"
      ],
      "execution_count": 7,
      "outputs": [
        {
          "output_type": "stream",
          "text": [
            "\n",
            "Test accuracy: 0.9742000102996826\n"
          ],
          "name": "stdout"
        }
      ]
    },
    {
      "cell_type": "markdown",
      "metadata": {
        "id": "PukTo038f81w",
        "colab_type": "text"
      },
      "source": [
        "## モデルを使った予測"
      ]
    },
    {
      "cell_type": "markdown",
      "metadata": {
        "id": "wUGCLsl0K3wB",
        "colab_type": "text"
      },
      "source": [
        "予測したいテストデータのidを指定"
      ]
    },
    {
      "cell_type": "code",
      "metadata": {
        "id": "l2QtxKwqK7WZ",
        "colab_type": "code",
        "colab": {}
      },
      "source": [
        "id=34"
      ],
      "execution_count": 11,
      "outputs": []
    },
    {
      "cell_type": "code",
      "metadata": {
        "id": "n7-pDG5UBAd_",
        "colab_type": "code",
        "colab": {}
      },
      "source": [
        "predictions = model.predict(x_test)"
      ],
      "execution_count": 13,
      "outputs": []
    },
    {
      "cell_type": "markdown",
      "metadata": {
        "id": "TVpvrXZzgU4J",
        "colab_type": "text"
      },
      "source": [
        "最も可能性の高い数字とその値を出力"
      ]
    },
    {
      "cell_type": "code",
      "metadata": {
        "id": "tygOoO9LgWmj",
        "colab_type": "code",
        "colab": {
          "base_uri": "https://localhost:8080/",
          "height": 51
        },
        "outputId": "84e1d207-9b23-4075-828a-7c51e315d5b6"
      },
      "source": [
        "print(\"予測ラベル:\", np.argmax(predictions[id]))\n",
        "print(\"予測値:\", max(predictions[id]))"
      ],
      "execution_count": 14,
      "outputs": [
        {
          "output_type": "stream",
          "text": [
            "予測ラベル: 7\n",
            "予測値: 1.0\n"
          ],
          "name": "stdout"
        }
      ]
    },
    {
      "cell_type": "markdown",
      "metadata": {
        "id": "K7TC8H5nLABa",
        "colab_type": "text"
      },
      "source": [
        "### 正解の確認"
      ]
    },
    {
      "cell_type": "code",
      "metadata": {
        "id": "Wo2t9_ZZgwT9",
        "colab_type": "code",
        "colab": {}
      },
      "source": [
        "# ラベルの出力\n",
        "print(\"正解ラベル: \", np.argmax(y_test[id]))\n",
        "# 画像の表示\n",
        "x_test_image = x_test[id].reshape(28, 28) \n",
        "\n",
        "plt.figure()\n",
        "plt.imshow(x_test_image)\n",
        "plt.colorbar()\n",
        "plt.grid(False)\n",
        "plt.show()"
      ],
      "execution_count": null,
      "outputs": []
    }
  ]
}
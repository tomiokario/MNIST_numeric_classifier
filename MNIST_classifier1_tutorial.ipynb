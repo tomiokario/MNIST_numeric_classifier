{
  "nbformat": 4,
  "nbformat_minor": 0,
  "metadata": {
    "colab": {
      "name": "MNIST_classifier1_tutorial.ipynb",
      "provenance": [],
      "authorship_tag": "ABX9TyNsQGCkG7yTwvx//p/Yjo5P",
      "include_colab_link": true
    },
    "kernelspec": {
      "name": "python3",
      "display_name": "Python 3"
    }
  },
  "cells": [
    {
      "cell_type": "markdown",
      "metadata": {
        "id": "view-in-github",
        "colab_type": "text"
      },
      "source": [
        "<a href=\"https://colab.research.google.com/github/tomiokario/MNIST_numeric_classifier/blob/master/MNIST_classifier1_tutorial.ipynb\" target=\"_parent\"><img src=\"https://colab.research.google.com/assets/colab-badge.svg\" alt=\"Open In Colab\"/></a>"
      ]
    },
    {
      "cell_type": "markdown",
      "metadata": {
        "id": "HwKMayTjXUqA",
        "colab_type": "text"
      },
      "source": [
        "# feedforward neural networkによるMNIST手書き文字分類\n",
        "\n",
        "TensorFlow & Kerasを用いた実装\n",
        "\n",
        "参考：[Tensorfrowで画像分類など学習してみる（手書き文字認識編１） - Qiita](https://qiita.com/kazuboy/items/b898b380fca716cf35b4)\n",
        "\n"
      ]
    },
    {
      "cell_type": "markdown",
      "metadata": {
        "id": "niN6_uScXoGy",
        "colab_type": "text"
      },
      "source": [
        "## 1. データの取得"
      ]
    },
    {
      "cell_type": "code",
      "metadata": {
        "id": "Zd9-bxZ_XqDA",
        "colab_type": "code",
        "colab": {}
      },
      "source": [
        "import tensorflow as tf\n",
        "from tensorflow.keras.datasets import mnist\n",
        "\n",
        "#ヘルパーのライブラリ読み込み。画像を表示する場合に利用します。\n",
        "import numpy as np\n",
        "import matplotlib.pyplot as plt\n",
        "\n",
        "(x_train, y_train), (x_test, y_test) = mnist.load_data() # データロード"
      ],
      "execution_count": null,
      "outputs": []
    },
    {
      "cell_type": "markdown",
      "metadata": {
        "id": "_pFVKNTlYSmq",
        "colab_type": "text"
      },
      "source": [
        "### データをチェック\n",
        "\n",
        "x_train：60000枚の画像データ(28*28)\n",
        "\n",
        "x_test ：10000枚の画像データ(28*28)\n",
        "\n",
        "y_train：60000枚分のラベルデータ\n",
        "\n",
        "y_test ：10000枚分のラベルデータ"
      ]
    },
    {
      "cell_type": "code",
      "metadata": {
        "id": "_8fkiP4-YUGT",
        "colab_type": "code",
        "colab": {
          "base_uri": "https://localhost:8080/",
          "height": 85
        },
        "outputId": "8e653ea2-a96e-487f-bc42-ef28a7b0e042"
      },
      "source": [
        "print('x_train.shape:', x_train.shape)\n",
        "print('x_test.shape:', x_test.shape)\n",
        "print('y_train.shape:', y_train.shape)\n",
        "print('y_test.shape:', y_test.shape)"
      ],
      "execution_count": null,
      "outputs": [
        {
          "output_type": "stream",
          "text": [
            "x_train.shape: (60000, 28, 28)\n",
            "x_test.shape: (10000, 28, 28)\n",
            "y_train.shape: (60000,)\n",
            "y_test.shape: (10000,)\n"
          ],
          "name": "stdout"
        }
      ]
    },
    {
      "cell_type": "markdown",
      "metadata": {
        "id": "ZbamB85gY4SE",
        "colab_type": "text"
      },
      "source": [
        "データを表示"
      ]
    },
    {
      "cell_type": "code",
      "metadata": {
        "id": "pW_8p78FY5kA",
        "colab_type": "code",
        "colab": {
          "base_uri": "https://localhost:8080/",
          "height": 265
        },
        "outputId": "95a67e04-2738-4afa-b8f8-5d6666f67eba"
      },
      "source": [
        "plt.figure()\n",
        "plt.imshow(x_train[0])\n",
        "plt.colorbar()\n",
        "plt.grid(False)\n",
        "plt.show()"
      ],
      "execution_count": null,
      "outputs": [
        {
          "output_type": "display_data",
          "data": {
            "image/png": "[encoded data removed]",
            "text/plain": [
              "<Figure size 432x288 with 2 Axes>"
            ]
          },
          "metadata": {
            "tags": [],
            "needs_background": "light"
          }
        }
      ]
    },
    {
      "cell_type": "code",
      "metadata": {
        "id": "G2SIiiI_Y9ij",
        "colab_type": "code",
        "colab": {
          "base_uri": "https://localhost:8080/",
          "height": 34
        },
        "outputId": "249d26fb-d4f1-45c5-cef8-73ab81c6fa22"
      },
      "source": [
        "print(y_test)"
      ],
      "execution_count": null,
      "outputs": [
        {
          "output_type": "stream",
          "text": [
            "[7 2 1 ... 4 5 6]\n"
          ],
          "name": "stdout"
        }
      ]
    },
    {
      "cell_type": "markdown",
      "metadata": {
        "id": "fQeqXu2_aG0_",
        "colab_type": "text"
      },
      "source": [
        "## 2. データの前処理\n",
        "\n",
        "スケール変換，正規化，ラベルを配列に変換"
      ]
    },
    {
      "cell_type": "markdown",
      "metadata": {
        "id": "lVUoSgYgZJg9",
        "colab_type": "text"
      },
      "source": [
        "### 画像データのスケール変換\n",
        "\n",
        "MNISTデータを利用できる形に変換する\n",
        "\n",
        "28*28の二次元配列→784の一次元配列"
      ]
    },
    {
      "cell_type": "code",
      "metadata": {
        "id": "NdnPOWTJZVXE",
        "colab_type": "code",
        "colab": {}
      },
      "source": [
        "# データスケール変換: (28*28)→(784)\n",
        "x_train = x_train.reshape(60000, 784) \n",
        "x_test = x_test.reshape(10000, 784) "
      ],
      "execution_count": null,
      "outputs": []
    },
    {
      "cell_type": "markdown",
      "metadata": {
        "id": "AARN16inZZCb",
        "colab_type": "text"
      },
      "source": [
        "結果を確認"
      ]
    },
    {
      "cell_type": "code",
      "metadata": {
        "id": "Fa7XdH8aZafM",
        "colab_type": "code",
        "colab": {
          "base_uri": "https://localhost:8080/",
          "height": 51
        },
        "outputId": "86fee860-370c-4ca9-a462-1c0a45d7dea5"
      },
      "source": [
        "#変換後の構造を確認する。\n",
        "print('x_train.shape:', x_train.shape)\n",
        "print('x_test.shape:', x_test.shape)"
      ],
      "execution_count": null,
      "outputs": [
        {
          "output_type": "stream",
          "text": [
            "x_train.shape: (60000, 784)\n",
            "x_test.shape: (10000, 784)\n"
          ],
          "name": "stdout"
        }
      ]
    },
    {
      "cell_type": "markdown",
      "metadata": {
        "id": "jT48J64HZp8t",
        "colab_type": "text"
      },
      "source": [
        "### データの正規化\n",
        "\n",
        "ピクセル値の範囲を0~255から0~1に変換する"
      ]
    },
    {
      "cell_type": "code",
      "metadata": {
        "id": "4fG_Xs5iZ3N9",
        "colab_type": "code",
        "colab": {}
      },
      "source": [
        "x_train = x_train / 255.\n",
        "x_test = x_test / 255."
      ],
      "execution_count": null,
      "outputs": []
    },
    {
      "cell_type": "markdown",
      "metadata": {
        "id": "ZwOCUTgdZ7el",
        "colab_type": "text"
      },
      "source": [
        "### ラベルデータの変換\n",
        "\n",
        "要素10のboolean配列に変換する\n",
        "\n",
        "e.g. \"2\"→[0,0,1,0,0,0,0,0,0,0]\n",
        "\n",
        "KerasのUtilsモジュール内，tocategoricalメソッドを使用"
      ]
    },
    {
      "cell_type": "code",
      "metadata": {
        "id": "xsC94I8WamEY",
        "colab_type": "code",
        "colab": {}
      },
      "source": [
        "from tensorflow.keras.utils import to_categorical\n",
        "y_train = to_categorical(y_train, 10)\n",
        "y_test = to_categorical(y_test, 10)"
      ],
      "execution_count": null,
      "outputs": []
    },
    {
      "cell_type": "markdown",
      "metadata": {
        "id": "L4hN4Z8eao1J",
        "colab_type": "text"
      },
      "source": [
        "## 3. モデルの構築\n",
        "\n",
        "KerasのSequential APIを利用する"
      ]
    },
    {
      "cell_type": "code",
      "metadata": {
        "id": "a94GO8sBauZb",
        "colab_type": "code",
        "colab": {}
      },
      "source": [
        "from tensorflow.keras.models import Sequential\n",
        "model = Sequential()"
      ],
      "execution_count": null,
      "outputs": []
    },
    {
      "cell_type": "markdown",
      "metadata": {
        "id": "z81PsPcecMeI",
        "colab_type": "text"
      },
      "source": [
        "#### 3層順伝播型ニューラルネットワーク\n",
        "\n",
        "3層の順伝搬型ニューラルネットワークの各層を構築"
      ]
    },
    {
      "cell_type": "markdown",
      "metadata": {
        "id": "ZM3udNpXbEgo",
        "colab_type": "text"
      },
      "source": [
        "**中間層の追加**\n",
        "\n",
        "Sequential APIのaddメソッドを用いて追加\n",
        "\n",
        "Denseレイヤーを用いて全結合層を追加\n",
        "\n",
        "・units：出力する次元の数=中間層として出力するニューロンの数\n",
        "\n",
        "・input_shape：入力される行列の形(入力次元の784を使用)\n",
        "\n",
        "・activation：活性化関数\n",
        "\n",
        "\n",
        "※全結合層：全ての入力が全てのニューロンと結合する構造を持つ層"
      ]
    },
    {
      "cell_type": "code",
      "metadata": {
        "id": "IndW74W4bRiv",
        "colab_type": "code",
        "colab": {}
      },
      "source": [
        "from tensorflow.keras.layers import Dense\n",
        "\n",
        "model.add(\n",
        "    Dense(\n",
        "        units=64,\n",
        "        input_shape=(784,),\n",
        "        activation='relu'\n",
        "    )\n",
        ")"
      ],
      "execution_count": null,
      "outputs": []
    },
    {
      "cell_type": "markdown",
      "metadata": {
        "id": "12zl2Sumb-7U",
        "colab_type": "text"
      },
      "source": [
        "**出力層を追加**"
      ]
    },
    {
      "cell_type": "code",
      "metadata": {
        "id": "s8y-wJsNcE12",
        "colab_type": "code",
        "colab": {}
      },
      "source": [
        "model.add(\n",
        "    Dense(\n",
        "        units=10,\n",
        "        activation='softmax'\n",
        "    )\n",
        ")"
      ],
      "execution_count": null,
      "outputs": []
    },
    {
      "cell_type": "markdown",
      "metadata": {
        "id": "RQliKcdIcRSf",
        "colab_type": "text"
      },
      "source": [
        "#### 学習の準備\n",
        "\n",
        "学習に使うオプティマイザと損失関数を構築\n",
        "\n",
        "・optimizer：最適化手法(今回はAdam)\n",
        "\n",
        "・loss：損失関数\n",
        "\n",
        "・metrics：評価関数"
      ]
    },
    {
      "cell_type": "code",
      "metadata": {
        "id": "-9S1aAHFciSl",
        "colab_type": "code",
        "colab": {}
      },
      "source": [
        "model.compile(\n",
        "    optimizer='adam',\n",
        "    loss='categorical_crossentropy',\n",
        "    metrics=['accuracy']\n",
        ")"
      ],
      "execution_count": null,
      "outputs": []
    },
    {
      "cell_type": "markdown",
      "metadata": {
        "id": "kZDYETJrc1HW",
        "colab_type": "text"
      },
      "source": [
        "## 4. モデルの学習\n",
        "\n",
        "データを用いたモデルの訓練"
      ]
    },
    {
      "cell_type": "markdown",
      "metadata": {
        "id": "bcpAkJh3eEUj",
        "colab_type": "text"
      },
      "source": [
        "\n",
        "**kerasのfit関数を利用した学習**\n",
        "\n",
        "fit関数：固定のエポック数でモデルを訓練する関数\n",
        "\n",
        "・第一引数：訓練データ\n",
        "\n",
        "・第二引数：訓練ラベル\n",
        "\n",
        "・batch_size：バッチサイズ(整数 or None)\n",
        "\n",
        "・epochs：訓練に使うエポック数(整数)\n",
        "\n",
        "・validation_sprit：一部を訓練の検証データに使用する場合に指定する．\n",
        "\n",
        "　　※今回は0.2(8割を訓練，2割を検証に使う)"
      ]
    },
    {
      "cell_type": "markdown",
      "metadata": {
        "id": "paNREa5yeEyp",
        "colab_type": "text"
      },
      "source": [
        "**結果**\n",
        "\n",
        "・loss：損失関数の値\n",
        "\n",
        "・accuracy：訓練データに対する正解率\n",
        "\n",
        "・val_loss：未知のデータ(sprit data)に対する損失関数の値\n",
        "\n",
        "・val_accuracy：未知のデータ(sprit data)に対する正解率\n",
        "\n",
        "※基本的にEpochを重ねるたびにlossが減少しaccuracyが増加する．\n",
        "しかし，過剰に進めるとval_lossやval_accuracyが悪化することがある(過学習)"
      ]
    },
    {
      "cell_type": "code",
      "metadata": {
        "id": "u5M0Je3jdSKe",
        "colab_type": "code",
        "colab": {
          "base_uri": "https://localhost:8080/",
          "height": 714
        },
        "outputId": "fcb045ba-c404-4cb5-c6d3-62edd6938819"
      },
      "source": [
        "model.fit(\n",
        "    x_train,\n",
        "    y_train,\n",
        "    batch_size=32,\n",
        "    epochs=20,\n",
        "    validation_split=0.2\n",
        ")"
      ],
      "execution_count": null,
      "outputs": [
        {
          "output_type": "stream",
          "text": [
            "Epoch 1/20\n",
            "1500/1500 [==============================] - 3s 2ms/step - loss: 2.9277 - accuracy: 0.7717 - val_loss: 0.7434 - val_accuracy: 0.8267\n",
            "Epoch 2/20\n",
            "1500/1500 [==============================] - 3s 2ms/step - loss: 0.5686 - accuracy: 0.8562 - val_loss: 0.4841 - val_accuracy: 0.8717\n",
            "Epoch 3/20\n",
            "1500/1500 [==============================] - 3s 2ms/step - loss: 0.3978 - accuracy: 0.8985 - val_loss: 0.3587 - val_accuracy: 0.9065\n",
            "Epoch 4/20\n",
            "1500/1500 [==============================] - 3s 2ms/step - loss: 0.3049 - accuracy: 0.9200 - val_loss: 0.2992 - val_accuracy: 0.9291\n",
            "Epoch 5/20\n",
            "1500/1500 [==============================] - 3s 2ms/step - loss: 0.2728 - accuracy: 0.9286 - val_loss: 0.2836 - val_accuracy: 0.9278\n",
            "Epoch 6/20\n",
            "1500/1500 [==============================] - 3s 2ms/step - loss: 0.2529 - accuracy: 0.9331 - val_loss: 0.2870 - val_accuracy: 0.9331\n",
            "Epoch 7/20\n",
            "1500/1500 [==============================] - 5s 3ms/step - loss: 0.2376 - accuracy: 0.9375 - val_loss: 0.2629 - val_accuracy: 0.9382\n",
            "Epoch 8/20\n",
            "1500/1500 [==============================] - 5s 3ms/step - loss: 0.2254 - accuracy: 0.9406 - val_loss: 0.2481 - val_accuracy: 0.9417\n",
            "Epoch 9/20\n",
            "1500/1500 [==============================] - 4s 3ms/step - loss: 0.2085 - accuracy: 0.9445 - val_loss: 0.2679 - val_accuracy: 0.9383\n",
            "Epoch 10/20\n",
            "1500/1500 [==============================] - 5s 4ms/step - loss: 0.2073 - accuracy: 0.9466 - val_loss: 0.2481 - val_accuracy: 0.9410\n",
            "Epoch 11/20\n",
            "1500/1500 [==============================] - 5s 3ms/step - loss: 0.1973 - accuracy: 0.9484 - val_loss: 0.2586 - val_accuracy: 0.9384\n",
            "Epoch 12/20\n",
            "1500/1500 [==============================] - 3s 2ms/step - loss: 0.1978 - accuracy: 0.9485 - val_loss: 0.2713 - val_accuracy: 0.9393\n",
            "Epoch 13/20\n",
            "1500/1500 [==============================] - 3s 2ms/step - loss: 0.1883 - accuracy: 0.9495 - val_loss: 0.2595 - val_accuracy: 0.9411\n",
            "Epoch 14/20\n",
            "1500/1500 [==============================] - 3s 2ms/step - loss: 0.1861 - accuracy: 0.9522 - val_loss: 0.4290 - val_accuracy: 0.9178\n",
            "Epoch 15/20\n",
            "1500/1500 [==============================] - 3s 2ms/step - loss: 0.1835 - accuracy: 0.9527 - val_loss: 0.2418 - val_accuracy: 0.9452\n",
            "Epoch 16/20\n",
            "1500/1500 [==============================] - 3s 2ms/step - loss: 0.1791 - accuracy: 0.9536 - val_loss: 0.2643 - val_accuracy: 0.9395\n",
            "Epoch 17/20\n",
            "1500/1500 [==============================] - 3s 2ms/step - loss: 0.1799 - accuracy: 0.9532 - val_loss: 0.3137 - val_accuracy: 0.9414\n",
            "Epoch 18/20\n",
            "1500/1500 [==============================] - 3s 2ms/step - loss: 0.1876 - accuracy: 0.9524 - val_loss: 0.2811 - val_accuracy: 0.9420\n",
            "Epoch 19/20\n",
            "1500/1500 [==============================] - 3s 2ms/step - loss: 0.1671 - accuracy: 0.9565 - val_loss: 0.2867 - val_accuracy: 0.9450\n",
            "Epoch 20/20\n",
            "1500/1500 [==============================] - 3s 2ms/step - loss: 0.1719 - accuracy: 0.9553 - val_loss: 0.3056 - val_accuracy: 0.9438\n"
          ],
          "name": "stdout"
        },
        {
          "output_type": "execute_result",
          "data": {
            "text/plain": [
              "<tensorflow.python.keras.callbacks.History at 0x7fc075046f60>"
            ]
          },
          "metadata": {
            "tags": []
          },
          "execution_count": 12
        }
      ]
    },
    {
      "cell_type": "markdown",
      "metadata": {
        "id": "5ZvOQlsgfwIk",
        "colab_type": "text"
      },
      "source": [
        "## 5. モデルの評価\n",
        "\n",
        "検証用データを用いてモデルの正解率を評価する"
      ]
    },
    {
      "cell_type": "code",
      "metadata": {
        "id": "9BZ9HbGKf3ZW",
        "colab_type": "code",
        "colab": {
          "base_uri": "https://localhost:8080/",
          "height": 51
        },
        "outputId": "45eb227d-8046-4ca3-8c4b-7a0be0c65c58"
      },
      "source": [
        "test_loss, test_acc = model.evaluate(x_test, y_test, verbose=0)\n",
        "print('\\nTest accuracy:', test_acc)"
      ],
      "execution_count": null,
      "outputs": [
        {
          "output_type": "stream",
          "text": [
            "\n",
            "Test accuracy: 0.9394000172615051\n"
          ],
          "name": "stdout"
        }
      ]
    },
    {
      "cell_type": "markdown",
      "metadata": {
        "id": "PukTo038f81w",
        "colab_type": "text"
      },
      "source": [
        "## 6. モデルによる予測\n",
        "\n",
        "手書き文字セットの各評価用データのラベルを予測してみる\n",
        "\n",
        "\n",
        "predict関数を使用"
      ]
    },
    {
      "cell_type": "code",
      "metadata": {
        "id": "NVcDVCdEgJID",
        "colab_type": "code",
        "colab": {}
      },
      "source": [
        "predictions = model.predict(x_test)"
      ],
      "execution_count": null,
      "outputs": []
    },
    {
      "cell_type": "markdown",
      "metadata": {
        "id": "Tuf1r8ncgOKV",
        "colab_type": "text"
      },
      "source": [
        "先頭の要素の予測値をチェック"
      ]
    },
    {
      "cell_type": "code",
      "metadata": {
        "id": "3ivQKxyKgQsc",
        "colab_type": "code",
        "colab": {
          "base_uri": "https://localhost:8080/",
          "height": 68
        },
        "outputId": "46ce0278-a65a-4ea0-f375-d1c826b9f513"
      },
      "source": [
        "predictions[0]"
      ],
      "execution_count": null,
      "outputs": [
        {
          "output_type": "execute_result",
          "data": {
            "text/plain": [
              "array([1.6136895e-30, 5.6601659e-12, 1.6545973e-10, 2.8162555e-07,\n",
              "       1.3717188e-19, 4.6207212e-17, 1.0790975e-32, 9.9999976e-01,\n",
              "       2.3073640e-14, 4.9712401e-20], dtype=float32)"
            ]
          },
          "metadata": {
            "tags": []
          },
          "execution_count": 15
        }
      ]
    },
    {
      "cell_type": "markdown",
      "metadata": {
        "id": "TVpvrXZzgU4J",
        "colab_type": "text"
      },
      "source": [
        "最も可能性の高い数字を出力"
      ]
    },
    {
      "cell_type": "code",
      "metadata": {
        "id": "tygOoO9LgWmj",
        "colab_type": "code",
        "colab": {
          "base_uri": "https://localhost:8080/",
          "height": 34
        },
        "outputId": "65a72d21-3b02-427c-dae2-713fe8d2426c"
      },
      "source": [
        "np.argmax(predictions[0])"
      ],
      "execution_count": null,
      "outputs": [
        {
          "output_type": "execute_result",
          "data": {
            "text/plain": [
              "7"
            ]
          },
          "metadata": {
            "tags": []
          },
          "execution_count": 16
        }
      ]
    },
    {
      "cell_type": "markdown",
      "metadata": {
        "id": "60lEWifjgZAS",
        "colab_type": "text"
      },
      "source": [
        "正解(ラベル)を確認"
      ]
    },
    {
      "cell_type": "code",
      "metadata": {
        "id": "p8gPtcLugbRf",
        "colab_type": "code",
        "colab": {
          "base_uri": "https://localhost:8080/",
          "height": 34
        },
        "outputId": "924a27fd-5036-4e36-e633-39ec844b1b7d"
      },
      "source": [
        "y_test[0]"
      ],
      "execution_count": null,
      "outputs": [
        {
          "output_type": "execute_result",
          "data": {
            "text/plain": [
              "array([0., 0., 0., 0., 0., 0., 0., 1., 0., 0.], dtype=float32)"
            ]
          },
          "metadata": {
            "tags": []
          },
          "execution_count": 17
        }
      ]
    },
    {
      "cell_type": "markdown",
      "metadata": {
        "id": "sSlM-dwXgthL",
        "colab_type": "text"
      },
      "source": [
        "正解(画像)を確認"
      ]
    },
    {
      "cell_type": "code",
      "metadata": {
        "id": "Wo2t9_ZZgwT9",
        "colab_type": "code",
        "colab": {
          "base_uri": "https://localhost:8080/",
          "height": 265
        },
        "outputId": "4d2725d6-4b8f-4598-d789-2e44d39cacee"
      },
      "source": [
        "x_test_image = x_test[0].reshape(28, 28) \n",
        "\n",
        "plt.figure()\n",
        "plt.imshow(x_test_image)\n",
        "plt.colorbar()\n",
        "plt.grid(False)\n",
        "plt.show()"
      ],
      "execution_count": null,
      "outputs": [
        {
          "output_type": "display_data",
          "data": {
            "image/png": "[encoded data removed]",
            "text/plain": [
              "<Figure size 432x288 with 2 Axes>"
            ]
          },
          "metadata": {
            "tags": [],
            "needs_background": "light"
          }
        }
      ]
    }
  ]
}